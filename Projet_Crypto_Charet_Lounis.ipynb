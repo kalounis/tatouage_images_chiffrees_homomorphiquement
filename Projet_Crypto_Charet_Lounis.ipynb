{
  "cells": [
    {
      "cell_type": "markdown",
      "metadata": {
        "id": "7J47_wrVuu2j"
      },
      "source": [
        "# I.Préparation"
      ]
    },
    {
      "cell_type": "markdown",
      "metadata": {
        "id": "vpOlVJrMW5Qn"
      },
      "source": [
        "Installation of conda and Gmpy2"
      ]
    },
    {
      "cell_type": "code",
      "execution_count": 84,
      "metadata": {
        "colab": {
          "base_uri": "https://localhost:8080/"
        },
        "id": "u8EKjXoJWk3M",
        "outputId": "7203007a-1ac5-4069-b73a-a6a89e1e61bf"
      },
      "outputs": [
        {
          "name": "stdout",
          "output_type": "stream",
          "text": [
            "✨🍰✨ Everything looks OK!\n",
            "Channels:\n",
            " - conda-forge\n",
            "Platform: linux-64\n",
            "Collecting package metadata (repodata.json): - \b\b\\ \b\b| \b\b/ \b\b- \b\b\\ \b\b| \b\b/ \b\b- \b\bdone\n",
            "Solving environment: | \b\b/ \b\b- \b\bdone\n",
            "\n",
            "\n",
            "==> WARNING: A newer version of conda exists. <==\n",
            "    current version: 24.11.3\n",
            "    latest version: 25.1.1\n",
            "\n",
            "Please update conda by running\n",
            "\n",
            "    $ conda update -n base -c conda-forge conda\n",
            "\n",
            "\n",
            "\n",
            "# All requested packages already installed.\n",
            "\n"
          ]
        }
      ],
      "source": [
        "!pip install -q condacolab\n",
        "import condacolab\n",
        "condacolab.install()\n",
        "!conda install -c conda-forge gmpy2"
      ]
    },
    {
      "cell_type": "markdown",
      "metadata": {
        "id": "bQRTBHY5XAPk"
      },
      "source": [
        "Import required packages"
      ]
    },
    {
      "cell_type": "code",
      "execution_count": 85,
      "metadata": {
        "id": "zCNTFpbYWoBB"
      },
      "outputs": [],
      "source": [
        "from gmpy2 import root, mpfr, cbrt, sqrt, c_div, is_prime, random_state, mpz_urandomb\n",
        "from gmpy2 import bit_set, next_prime, bit_length, num_digits, mpz_random, gcd\n",
        "from gmpy2 import invert, powmod, mpz\n",
        "import time\n",
        "import random\n",
        "import numpy as np"
      ]
    },
    {
      "cell_type": "markdown",
      "metadata": {
        "id": "SfRcs6l6vFQz"
      },
      "source": [
        "# II. Fonction cryptographiques (Paillier)"
      ]
    },
    {
      "cell_type": "markdown",
      "metadata": {
        "id": "Dl_95IvsXDfw"
      },
      "source": [
        "Generation of prime numbers"
      ]
    },
    {
      "cell_type": "code",
      "execution_count": 86,
      "metadata": {
        "id": "PZTiew-mWvFH"
      },
      "outputs": [],
      "source": [
        "def get_prime(size): # size is the binary size\n",
        "    seed = random_state(time.time_ns())\n",
        "    p = mpz_urandomb(seed, size)\n",
        "    p = p.bit_set(size - 1)\n",
        "    return next_prime(p)"
      ]
    },
    {
      "cell_type": "markdown",
      "metadata": {
        "id": "cscksrPnXGJF"
      },
      "source": [
        "Generation of Paillier public and private keys"
      ]
    },
    {
      "cell_type": "code",
      "execution_count": 87,
      "metadata": {
        "id": "CyjYT0eTWxTh"
      },
      "outputs": [],
      "source": [
        "def get_paillier_keys(size):\n",
        "    p = get_prime(size//2)\n",
        "    while True:\n",
        "        q = get_prime(size//2)\n",
        "        N = p*q\n",
        "        phi = (p-1)*(q-1)\n",
        "        if gcd(N, phi) == 1 and p != q:\n",
        "            break\n",
        "    g = 1 + N\n",
        "    pub_key = N, g\n",
        "    priv_key = phi, max(p,q), min(p,q)\n",
        "    return pub_key, priv_key"
      ]
    },
    {
      "cell_type": "markdown",
      "metadata": {
        "id": "rbTob2W7XJFm"
      },
      "source": [
        "Encryption and decryption functions"
      ]
    },
    {
      "cell_type": "code",
      "execution_count": 88,
      "metadata": {
        "id": "mDevhae_W1Bb"
      },
      "outputs": [],
      "source": [
        "def get_r(pub_key):\n",
        "    while True:\n",
        "        seed = random_state(time.time_ns())\n",
        "        r = mpz_random(seed, pub_key)\n",
        "        if gcd(r, pub_key[0]) == 1:\n",
        "            break\n",
        "    return r\n",
        "\n",
        "def paillier_encrypt(message, pub_key):\n",
        "    # get random value r\n",
        "    r = get_r(pub_key[0])\n",
        "    # encrypt the message\n",
        "    N = pub_key[0]\n",
        "    g = pub_key[1]\n",
        "    N2 = N ** 2\n",
        "    r_pow_N = powmod(r, N, N2)\n",
        "    g_pow_m = powmod(g, message, N2)\n",
        "    c = (g_pow_m * r_pow_N) % N2\n",
        "    return c\n",
        "\n",
        "def paillier_decrypt(enc, priv_key, pub_key):\n",
        "    N = pub_key\n",
        "    phi = priv_key\n",
        "    N2 = N ** 2\n",
        "\n",
        "    # Calculate L(u) = (u-1)/N\n",
        "    # First, compute c^phi mod N^2\n",
        "    c_pow_phi = powmod(enc, phi, N2)\n",
        "\n",
        "    # Apply L function: L(u) = (u-1)/N\n",
        "    L_result = (c_pow_phi - 1) // N\n",
        "\n",
        "    # Calculate mu = phi^(-1) mod N\n",
        "    mu = invert(phi, N)\n",
        "\n",
        "    # Calculate message: m = L(c^phi mod N^2) * mu mod N\n",
        "    m = (L_result * mu) % N\n",
        "    return m\n",
        "\n",
        "def paillier_decrypt_CRT(enc, priv_key, pub_key):\n",
        "    phi = priv_key[0]\n",
        "    p = priv_key[1]\n",
        "    q = priv_key[2]\n",
        "    N = pub_key[0]\n",
        "\n",
        "    # Compute modular exponentiation with CRT\n",
        "    xp = powmod(enc, phi, p**2)\n",
        "    xq = powmod(enc, phi, q**2)\n",
        "\n",
        "    # Compute modular inverse of q^2 with respect to p^2\n",
        "    Invq = invert(q**2, p**2)\n",
        "\n",
        "    # Apply CRT to find x = c^phi mod N^2\n",
        "    x = ((Invq*(xp-xq)) % p**2)*q**2 + xq\n",
        "\n",
        "    # Apply L function and complete decryption\n",
        "    L_result = (x-1)//N\n",
        "    m = (L_result * invert(phi, N)) % N\n",
        "    return m"
      ]
    },
    {
      "cell_type": "markdown",
      "metadata": {
        "id": "xnBYWcf0XKwO"
      },
      "source": [
        "# III. Fonctions de transformation : image / liste 2D / vecteur 1D"
      ]
    },
    {
      "cell_type": "markdown",
      "metadata": {
        "id": "i-3H86k5XuWS"
      },
      "source": [
        "Fonctions pour applattir l'image en un vecteur et reconstruire l'image à partir du vecteur"
      ]
    },
    {
      "cell_type": "code",
      "execution_count": 89,
      "metadata": {
        "id": "Gx7xVUR3Xw2q"
      },
      "outputs": [],
      "source": [
        "def image_flattening(image):\n",
        "    \"\"\"\n",
        "    Convertit l'image en un vecteur 1D et la divise en blocs.\n",
        "    \"\"\"\n",
        "    h, w = image.shape\n",
        "    vectorized_image = image.flatten()\n",
        "    return vectorized_image, (h, w)\n",
        "\n",
        "def image_reconstruction(vector, shape):\n",
        "    \"\"\"\n",
        "    Reconstruit l'image à partir du vecteur.\n",
        "    \"\"\"\n",
        "    return vector.reshape(shape)"
      ]
    },
    {
      "cell_type": "markdown",
      "metadata": {
        "id": "o-0WT7stviO6"
      },
      "source": [
        "Test pour charger une image (et l'afficher), la transformer en vecteur (et afficher ce vecteur), puis re-transformer le vecteur en image (et afficher l'image)"
      ]
    },
    {
      "cell_type": "code",
      "execution_count": 90,
      "metadata": {
        "colab": {
          "base_uri": "https://localhost:8080/",
          "height": 885
        },
        "id": "3-GxWAOmZBma",
        "outputId": "c96dc134-a3e3-4e64-d8b5-5ba2b502c0c2"
      },
      "outputs": [
        {
          "name": "stdout",
          "output_type": "stream",
          "text": [
            "Taille de l'image choisie : (107, 150) \n",
            "\n",
            "L'image de départ :\n"
          ]
        },
        {
          "data": {
            "image/png": "[encoded data removed]",
            "text/plain": [
              "<Figure size 640x480 with 1 Axes>"
            ]
          },
          "metadata": {},
          "output_type": "display_data"
        },
        {
          "name": "stdout",
          "output_type": "stream",
          "text": [
            "\n",
            "Vecteur tronqué : [152 151 150 150 151 153 156 157 159 162]  de taille : 16050 \n",
            "\n",
            "L'image reconstituée à partir du vecteur\n"
          ]
        },
        {
          "data": {
            "image/png": "[encoded data removed]",
            "text/plain": [
              "<Figure size 640x480 with 1 Axes>"
            ]
          },
          "metadata": {},
          "output_type": "display_data"
        }
      ],
      "source": [
        "import cv2\n",
        "import numpy as np\n",
        "import matplotlib.pyplot as plt\n",
        "\n",
        "# Charger l'image en niveaux de gris\n",
        "image = cv2.imread(\"image_aston.jpg\", cv2.IMREAD_GRAYSCALE)\n",
        "\n",
        "# Afficher la forme de l’image (hauteur, largeur)\n",
        "print(\"Taille de l'image choisie :\", image.shape, \"\\n\")\n",
        "\n",
        "# Afficher l'image avec Matplotlib\n",
        "print(\"L'image de départ :\")\n",
        "plt.imshow(image, cmap=\"gray\")\n",
        "plt.axis(\"off\")  # Supprime les axes\n",
        "plt.show()\n",
        "\n",
        "# Transformation en vecteur\n",
        "vector, shape = image_flattening(image)\n",
        "print(\"\\nVecteur tronqué :\", vector[:min(10, len(vector))], \" de taille :\", len(vector), \"\\n\")\n",
        "\n",
        "# Reconstruction de l'image\n",
        "reconstructed_image = image_reconstruction(vector, shape)\n",
        "\n",
        "# Afficher l'image avec Matplotlib\n",
        "print(\"L'image reconstituée à partir du vecteur\")\n",
        "plt.imshow(reconstructed_image, cmap=\"gray\")\n",
        "plt.axis(\"off\")  # Supprime les axes\n",
        "plt.show()\n"
      ]
    },
    {
      "cell_type": "markdown",
      "metadata": {
        "id": "m9qPciCywnLz"
      },
      "source": [
        "# IV. Pre-marque"
      ]
    },
    {
      "cell_type": "markdown",
      "metadata": {
        "id": "0KBRIv35cENs"
      },
      "source": [
        "Fonctions qui permettent l'insertion de la pré-marque dans le vecteur représentant l'image"
      ]
    },
    {
      "cell_type": "code",
      "execution_count": 91,
      "metadata": {
        "id": "lNGvRpnfb2QO"
      },
      "outputs": [],
      "source": [
        "import numpy as np\n",
        "\n",
        "def divide_into_blocs(vector, s):\n",
        "    \"\"\"\n",
        "    Divise un vecteur en blocs de taille s.\n",
        "    \"\"\"\n",
        "    if len(vector) % s == 0:\n",
        "        return vector.reshape(-1, s)  # Retourne un tableau numpy (matrice)\n",
        "    else:\n",
        "        return np.array([vector[i:i+s] for i in range(0, len(vector), s)], dtype=object)  # Objet pour gérer tailles différentes\n",
        "\n",
        "def quantization_index_modulation(m, delta, b):\n",
        "    \"\"\"\n",
        "    Implémente la QIM pour tatouer un bit b dans le message m avec un pas de quantification delta.\n",
        "    \"\"\"\n",
        "    if np.floor(m / delta) == 255 and b == 0:\n",
        "        return (np.floor(m / delta) * delta) - 1\n",
        "    elif np.floor(m / delta) % 2 == b:\n",
        "        return (np.floor(m / delta) * delta)\n",
        "    else:\n",
        "        return (np.floor(m / delta) * delta) + delta\n",
        "\n",
        "def insert_premark_block(block, pre_mark, delta = 1):\n",
        "    \"\"\"\n",
        "    Insère une pré-marque dans les blocs à l'aide de QIM.\n",
        "    \"\"\"\n",
        "    pre_marked_block = []\n",
        "    for pixel_index in range(len(block)):\n",
        "        pixel = block[pixel_index]\n",
        "        pre_mark_bit = pre_mark[pixel_index]\n",
        "        result_QIM = int(quantization_index_modulation(pixel, delta, pre_mark_bit))\n",
        "        pre_marked_block.append(result_QIM)\n",
        "    return np.array(pre_marked_block)\n",
        "\n",
        "def insert_premark(vector, s):\n",
        "    \"\"\"\n",
        "    Divise un vecteur en blocs de taille s\n",
        "    Dasn chaque bloc, insère une pré-marque à l'aide de QIM.\n",
        "    Retourne le vecteur dont les blocs ont été pré-marqués\n",
        "    \"\"\"\n",
        "    pre_mark = np.random.randint(0, 2, s)  # Génère une pré-marque aléatoire (0 ou 1) de taille s\n",
        "    blocks = divide_into_blocs(vector, s) # Blocs de taille s\n",
        "    pre_marked_vector = []\n",
        "    for block in blocks:\n",
        "        pre_marked_block = insert_premark_block(block, pre_mark)\n",
        "        pre_marked_vector.extend(pre_marked_block)\n",
        "    return np.array(pre_marked_vector), pre_mark\n"
      ]
    },
    {
      "cell_type": "markdown",
      "metadata": {
        "id": "-BvW2OuQxD4l"
      },
      "source": [
        "Ajout de la pré-marque dans notre image"
      ]
    },
    {
      "cell_type": "code",
      "execution_count": 92,
      "metadata": {
        "colab": {
          "base_uri": "https://localhost:8080/"
        },
        "id": "HbWs2kmxfkiI",
        "outputId": "775713fe-024e-4cad-bcf9-18af491b899a"
      },
      "outputs": [
        {
          "name": "stdout",
          "output_type": "stream",
          "text": [
            "\n",
            "Vecteur tronqué représentant l'image :\n",
            " [152 151 150 150 151 153 156 157 159 162]\n",
            "\n",
            "Vecteur représentant l'image pré-marquée :\n",
            " [152 152 151 150 151 153 156 157 160 163]\n"
          ]
        }
      ],
      "source": [
        "s = 256  # Taille des blocs\n",
        "\n",
        "pre_marked_vector, pre_mark = insert_premark(vector, s)\n",
        "\n",
        "print(\"\\nVecteur tronqué représentant l'image :\\n\", vector[:min(10, len(vector))])\n",
        "print(\"\\nVecteur représentant l'image pré-marquée :\\n\", pre_marked_vector[:min(10, len(pre_marked_vector))])\n"
      ]
    },
    {
      "cell_type": "markdown",
      "metadata": {
        "id": "6IEX4Z7PxJC_"
      },
      "source": [
        "#V. Chiffrement de l'image"
      ]
    },
    {
      "cell_type": "markdown",
      "metadata": {
        "id": "kHHLAQQDxP6e"
      },
      "source": [
        "Fonction pour chiffrer l'image (en utilisant les fonctions cryptographiques de Paillier de la partie \"II. Fonction cryptographiques\")"
      ]
    },
    {
      "cell_type": "code",
      "execution_count": 93,
      "metadata": {
        "id": "311PawtOqVap"
      },
      "outputs": [],
      "source": [
        "def encrypt_vector(vector, public_key):\n",
        "    \"\"\"\n",
        "    Chiffrement homomorphe du vecteur d'image avec le cryptosystème de Paillier.\n",
        "    \"\"\"\n",
        "    encrypted_vector = []\n",
        "    for pixel in vector:\n",
        "      encrypted_vector.append(paillier_encrypt(mpz(pixel), public_key))\n",
        "    return np.array(encrypted_vector)"
      ]
    },
    {
      "cell_type": "code",
      "execution_count": 94,
      "metadata": {
        "id": "e8kRLTfi3xOB"
      },
      "outputs": [],
      "source": [
        "def decrypt_vector(vector, public_key, private_key):\n",
        "    \"\"\"\n",
        "    Chiffrement homomorphe du vecteur d'image avec le cryptosystème de Paillier.\n",
        "    \"\"\"\n",
        "    decrypted_vector = []\n",
        "    for pixel in vector:\n",
        "      decrypted_vector.append(paillier_decrypt_CRT(pixel, private_key, public_key))\n",
        "    return np.array(decrypted_vector)"
      ]
    },
    {
      "cell_type": "markdown",
      "metadata": {
        "id": "RYOeejFBxf8U"
      },
      "source": [
        "Génération des clés de chiffrement et chiffrement du vecteur représentant l'image"
      ]
    },
    {
      "cell_type": "code",
      "execution_count": 95,
      "metadata": {
        "colab": {
          "base_uri": "https://localhost:8080/"
        },
        "id": "m3J3MmpLqoQW",
        "outputId": "af3d0913-051f-486d-c4bb-d2e59f6bdaaf"
      },
      "outputs": [
        {
          "name": "stdout",
          "output_type": "stream",
          "text": [
            "Vecteur chiffré tronqué:\n",
            " [mpz(25748827677014089898613455665369385513376996862022970666888233111781786691705321809375544708179951838256989150658436148616977121256025381379505560481798768167534820957546505498025093318167783560650453672114718943936162650486915733622612458790854947154027742410612419808347877529937012424197256374615016896567)\n",
            " mpz(21386831968810801590582909629369791253614180184601199532664382538098579716612526876014656507351156981245379544253421575905633970795482720850392994778285466707560091666711516029353727749378781327468881054804134814928077603704399456436291053225248146218878768233458548847156759042879406356740123711632522421211)\n",
            " mpz(59941117601310359670858062759686686060051510705638402671065376545455058820527029573673594559182243653722962234144478605153736559770187540027300442891575235922776710941929749571021005136522775207297191811721646190079025463766981111699448377357105517964233455617998281228673208842654948722213946664988649403176)\n",
            " mpz(11958624692807738880191295565275073493578777438971027601122119206239954362292297596164271065849099509970761183715052051678162854390901933124245677503984005891478993155093158262419305744195341451295126971553469837625128933962653352156464701927538639599063365784832030956518189144557623557270670097663006971493)\n",
            " mpz(15096482773441182655323428198151082172008858962488769846848101567605829785938400521055708710456101589987575693166778588613872837965985120955020178768921548222850836159963975457241586690570985870653833875632858841997196446305162809278693022047847323255337416035893848523979479681339234776880578693747601189519)]\n"
          ]
        }
      ],
      "source": [
        "# Taille des clés\n",
        "size = 512\n",
        "\n",
        "# Génération des clés publiques et privées utilisées dans la suite\n",
        "public_key, private_key = get_paillier_keys(size)\n",
        "\n",
        "# Chiffrement du vecteur pré-marqué\n",
        "encrypted_vector = encrypt_vector(pre_marked_vector, public_key)\n",
        "\n",
        "# Affichage du vecteur chiffré\n",
        "print(\"Vecteur chiffré tronqué:\\n\", encrypted_vector[:min(5, len(encrypted_vector))])"
      ]
    },
    {
      "cell_type": "markdown",
      "metadata": {
        "id": "z1aon4Urx6cW"
      },
      "source": [
        "#VI. Transformation : message en texte / message en bits"
      ]
    },
    {
      "cell_type": "markdown",
      "metadata": {
        "id": "WbR8Fnhmx6kp"
      },
      "source": [
        "Fonctions pour transformer un texte en liste de bits, et une liste de bits en texte"
      ]
    },
    {
      "cell_type": "code",
      "execution_count": 96,
      "metadata": {
        "id": "2Eu9sc4UwuFX"
      },
      "outputs": [],
      "source": [
        "def string_to_bits(message):\n",
        "    \"\"\"\n",
        "    Convertit une chaîne de caractères en une liste de bits individuels.\n",
        "\n",
        "    :param message: str, le message à convertir\n",
        "    :return: list, liste de bits (0 et 1)\n",
        "    \"\"\"\n",
        "    return [int(bit) for char in message for bit in format(ord(char), '08b')]\n",
        "\n",
        "def bits_to_string(bits):\n",
        "    \"\"\"\n",
        "    Convertit une liste de bits individuels en une chaîne de caractères.\n",
        "\n",
        "    :param bits: list, liste de bits (0 et 1)\n",
        "    :return: str, le message reconstruit\n",
        "    \"\"\"\n",
        "    return ''.join(chr(int(''.join(map(str, bits[i:i+8])), 2)) for i in range(0, len(bits), 8))\n"
      ]
    },
    {
      "cell_type": "markdown",
      "metadata": {
        "id": "PXCywCH3yROo"
      },
      "source": [
        "Utilisation des message \"James Bond est un agent secret\" et \"Aston Martin\" qu'on va tatouer dans l'image. Pour cela il faut le transformer en bits."
      ]
    },
    {
      "cell_type": "code",
      "execution_count": 97,
      "metadata": {
        "colab": {
          "base_uri": "https://localhost:8080/"
        },
        "id": "l1w-JP-ryOQe",
        "outputId": "c99c2425-b51b-444d-f0d9-58bf4c8d60f0"
      },
      "outputs": [
        {
          "name": "stdout",
          "output_type": "stream",
          "text": [
            "Message original pour le domaine clair: James Bond est un agent secret\n",
            "Message original pour le domaine chiffré: Aston Martin\n",
            "\n",
            "Liste des bits pour le domaine clair : [0, 1, 0, 0, 1, 0, 1, 0, 0, 1, 1, 0, 0, 0, 0, 1, 0, 1, 1, 0, 1, 1, 0, 1, 0, 1, 1, 0, 0, 1, 0, 1, 0, 1, 1, 1, 0, 0, 1, 1, 0, 0, 1, 0, 0, 0, 0, 0, 0, 1, 0, 0, 0, 0, 1, 0, 0, 1, 1, 0, 1, 1, 1, 1, 0, 1, 1, 0, 1, 1, 1, 0, 0, 1, 1, 0, 0, 1, 0, 0, 0, 0, 1, 0, 0, 0, 0, 0, 0, 1, 1, 0, 0, 1, 0, 1, 0, 1, 1, 1, 0, 0, 1, 1, 0, 1, 1, 1, 0, 1, 0, 0, 0, 0, 1, 0, 0, 0, 0, 0, 0, 1, 1, 1, 0, 1, 0, 1, 0, 1, 1, 0, 1, 1, 1, 0, 0, 0, 1, 0, 0, 0, 0, 0, 0, 1, 1, 0, 0, 0, 0, 1, 0, 1, 1, 0, 0, 1, 1, 1, 0, 1, 1, 0, 0, 1, 0, 1, 0, 1, 1, 0, 1, 1, 1, 0, 0, 1, 1, 1, 0, 1, 0, 0, 0, 0, 1, 0, 0, 0, 0, 0, 0, 1, 1, 1, 0, 0, 1, 1, 0, 1, 1, 0, 0, 1, 0, 1, 0, 1, 1, 0, 0, 0, 1, 1, 0, 1, 1, 1, 0, 0, 1, 0, 0, 1, 1, 0, 0, 1, 0, 1, 0, 1, 1, 1, 0, 1, 0, 0]\n",
            "     longueur du message en bits (max 256 bits car c'est la taille des blocs) : 240\n",
            "Liste des bits pour le domaine chiffré : [0, 1, 0, 0, 0, 0, 0, 1, 0, 1, 1, 1, 0, 0, 1, 1, 0, 1, 1, 1, 0, 1, 0, 0, 0, 1, 1, 0, 1, 1, 1, 1, 0, 1, 1, 0, 1, 1, 1, 0, 0, 0, 1, 0, 0, 0, 0, 0, 0, 1, 0, 0, 1, 1, 0, 1, 0, 1, 1, 0, 0, 0, 0, 1, 0, 1, 1, 1, 0, 0, 1, 0, 0, 1, 1, 1, 0, 1, 0, 0, 0, 1, 1, 0, 1, 0, 0, 1, 0, 1, 1, 0, 1, 1, 1, 0]\n",
            "     longueur du message en bits (max 256 bits car c'est la taille des blocs) : 96\n",
            "\n",
            "Message reconstruit pour le domaine clair: James Bond est un agent secret\n",
            "Message reconstruit pour le domaine chiffré: Aston Martin\n"
          ]
        }
      ],
      "source": [
        "# Messages à utiliser\n",
        "\n",
        "message1 = \"James Bond est un agent secret\"\n",
        "print(\"Message original pour le domaine clair:\", message1)\n",
        "\n",
        "message2 = \"Aston Martin\"\n",
        "print(\"Message original pour le domaine chiffré:\", message2)\n",
        "\n",
        "\n",
        "# Transformation en bits\n",
        "\n",
        "message_bits1 = string_to_bits(message1)\n",
        "print(\"\\nListe des bits pour le domaine clair :\", message_bits1)\n",
        "print(\"     longueur du message en bits (max 256 bits car c'est la taille des blocs) :\", len(message_bits1))\n",
        "\n",
        "message_bits2 = string_to_bits(message2)\n",
        "print(\"Liste des bits pour le domaine chiffré :\", message_bits2)\n",
        "print(\"     longueur du message en bits (max 256 bits car c'est la taille des blocs) :\", len(message_bits2))\n",
        "\n",
        "\n",
        "# Re-transformation en texte\n",
        "\n",
        "reconstructed_message1 = bits_to_string(message_bits1)\n",
        "print(\"\\nMessage reconstruit pour le domaine clair:\", reconstructed_message1)\n",
        "\n",
        "reconstructed_message2 = bits_to_string(message_bits2)\n",
        "print(\"Message reconstruit pour le domaine chiffré:\", reconstructed_message2)"
      ]
    },
    {
      "cell_type": "markdown",
      "metadata": {
        "id": "TTHEZhKmy5ga"
      },
      "source": [
        "# VII. Insertion d'un message dans le domaine clair de l'image"
      ]
    },
    {
      "cell_type": "markdown",
      "metadata": {
        "id": "H24EWh1gy_JE"
      },
      "source": [
        "Fonction pour insérer et extraire un message (liste de bits) dans le domaine clair de l'image, à partir du vecteur chiffré représentant l'image"
      ]
    },
    {
      "cell_type": "code",
      "execution_count": 98,
      "metadata": {
        "id": "W7ic5M1GvEo-"
      },
      "outputs": [],
      "source": [
        "def insertion_clair(vector, message, public_key):\n",
        "    \"\"\"\n",
        "    Insertion de la marque dans le domaine clair en utilisant le cryptosystème de Paillier.\n",
        "    \"\"\"\n",
        "\n",
        "    # Ajustement du message à la taille de la pre_marque : 256 bits\n",
        "    if len(message) < 256:\n",
        "        message.extend([0] * (256 - len(message)))  # Remplissage avec des 0\n",
        "    else:\n",
        "        message = message[:256]  # Tronquage\n",
        "\n",
        "    # Chiffrer les éléments du message\n",
        "    encrypted_message = [paillier_encrypt(bit, public_key) for bit in message]\n",
        "\n",
        "    encrypted_message_repete = (encrypted_message * (len(vector) // len(encrypted_message) + 1))[:len(vector)]  # Duplique puis tronque à `len(vector)` éléments\n",
        "\n",
        "    # Multiplication élément par élément\n",
        "    result_vector = np.array([enc_v * enc_l for enc_v, enc_l in zip(vector, encrypted_message_repete)])\n",
        "\n",
        "    return result_vector\n",
        "\n",
        "def detect_clair_message(encrypted_vector, pre_mark):\n",
        "    \"\"\"\n",
        "    Détection de la marque dans le domaine clair en appliquant modulo 2 sur les valeurs chiffrées.\n",
        "    pre_mark est de la même taille que le message\n",
        "    \"\"\"\n",
        "    decrypted_vector = decrypt_vector(encrypted_vector, public_key, private_key)\n",
        "\n",
        "    # Rem : On a decrypted_vector%2 = vector_premarqué%2 + b et on a fait en sorte (pré-marquage) que vector_premarqué%2 = pre_marque\n",
        "    # Reme : Donc b = decrypted_vector%2 - pre_marque\n",
        "\n",
        "    message_detected = []\n",
        "    for pixel_index in range(len(decrypted_vector)):\n",
        "        pixel = decrypted_vector[pixel_index]\n",
        "        pre_mark_bit = pre_mark[pixel_index%256]\n",
        "        bit_message = abs(pixel%2 - pre_mark_bit)\n",
        "        message_detected.append(int(bit_message))\n",
        "\n",
        "    return message_detected"
      ]
    },
    {
      "cell_type": "markdown",
      "metadata": {
        "id": "rh5EMsxQ6Yse"
      },
      "source": [
        "Insertion du message dans le domaine clair de l'image à partir du vecteur chiffré représentant l'image, et test de l'extraction du message"
      ]
    },
    {
      "cell_type": "code",
      "execution_count": 99,
      "metadata": {
        "colab": {
          "base_uri": "https://localhost:8080/"
        },
        "id": "b2FnTK0N54pk",
        "outputId": "c337e308-500f-496b-bd5c-7175c13d1315"
      },
      "outputs": [
        {
          "name": "stdout",
          "output_type": "stream",
          "text": [
            "Insertion effectuée\n",
            "\n",
            "Message (bits) detecté tronqué: [0, 1, 0, 0, 1, 0, 1, 0, 0, 1]\n",
            "\n",
            "Message détecté dans le domaine clair de l'image : James Bond est un agent secret\u0000\u0000\n"
          ]
        }
      ],
      "source": [
        "# Insertion du message\n",
        "image_encryptee_avec_message_dans_le_clair = insertion_clair(encrypted_vector, message_bits1, public_key)\n",
        "print(\"Insertion effectuée\\n\")\n",
        "\n",
        "# Extraction du message\n",
        "message_clair_detected = detect_clair_message(image_encryptee_avec_message_dans_le_clair, pre_mark)\n",
        "print(\"Message (bits) detecté tronqué:\", message_clair_detected[:min(10, len(message_clair_detected))])\n",
        "\n",
        "# Reconstruction du message textuel (grâce aux fonction de la partie \"VI. Transformation : message en texte / message en bits\")\n",
        "message_clair_detected = message_clair_detected[:256] # On ne prend que le premier bloc (puisqu'on a tatoué le même message dans chaque bloc)\n",
        "reconstructed_message_clair = bits_to_string(message_clair_detected)\n",
        "print(\"\\nMessage détecté dans le domaine clair de l'image :\", reconstructed_message_clair)"
      ]
    },
    {
      "cell_type": "markdown",
      "metadata": {
        "id": "-as5W1XT0KC_"
      },
      "source": [
        "#VIII. Insertion d'un message dans le domaine chiffré de l'image"
      ]
    },
    {
      "cell_type": "markdown",
      "metadata": {
        "id": "03-8cN-H0Zpi"
      },
      "source": [
        "Fonction pour insérer et extraire un message (liste de bits) dans le domaine chiffré de l'image, à partir du vecteur chiffré représentant l'image"
      ]
    },
    {
      "cell_type": "code",
      "execution_count": 100,
      "metadata": {
        "id": "W54Z3HG4rb0Y"
      },
      "outputs": [],
      "source": [
        "def insertion_chiffre_pixel(encrypted_pixel, b_message, public_key):\n",
        "    \"\"\"\n",
        "    Insère un bit dans un pixel chiffré en forçant `mod 2 == b_message`\n",
        "    \"\"\"\n",
        "    while encrypted_pixel % 2 != b_message:\n",
        "        encrypted_pixel = (encrypted_pixel * paillier_encrypt(0, public_key)) % (public_key[0]**2)\n",
        "    return encrypted_pixel\n",
        "\n",
        "def insertion_chiffre(vector_clair, b_message, public_key):\n",
        "    b_message_repete = b_message + [0] * (len(vector_clair) - len(b_message)) # Complète le message avec suffisement de 0\n",
        "    vector_chiffre = [insertion_chiffre_pixel(pixel, bit, public_key)\n",
        "                      for pixel, bit in zip(vector_clair, b_message_repete)]\n",
        "    return np.array(vector_chiffre)\n",
        "\n",
        "def extraction_chiffre_pixel(encrypted_pixel):\n",
        "    \"\"\"\n",
        "    Extrait un bit caché dans un pixel chiffré.\n",
        "    \"\"\"\n",
        "    return encrypted_pixel % 2\n",
        "\n",
        "def extraction_chiffre(vector_chiffre):\n",
        "    \"\"\"\n",
        "    Extrait un message entier caché dans un vecteur chiffré.\n",
        "    \"\"\"\n",
        "    return np.array([extraction_chiffre_pixel(pixel) for pixel in vector_chiffre])"
      ]
    },
    {
      "cell_type": "markdown",
      "metadata": {
        "id": "3bKRSgNp06Yz"
      },
      "source": [
        "Insertion du message dans le domaine chiffré de l'image à partir du vecteur chiffré représentant l'image (dans lequel a déjà été inséré le message dans le domaine clair), et test de l'extraction du message"
      ]
    },
    {
      "cell_type": "code",
      "execution_count": 101,
      "metadata": {
        "colab": {
          "base_uri": "https://localhost:8080/"
        },
        "id": "OtOBgFnhzWMR",
        "outputId": "cc754667-c89c-402d-aefd-27c9c7c45be2"
      },
      "outputs": [
        {
          "name": "stdout",
          "output_type": "stream",
          "text": [
            "Insertion effectuée\n",
            "\n",
            "Message (bits) detecté tronqué: [0, 1, 0, 0, 0, 0, 0, 1, 0, 1]\n",
            "\n",
            "Message extrait dans le domaine chiffré de l'image : Aston Martin\n"
          ]
        }
      ],
      "source": [
        "# Insertion du message\n",
        "image_encryptee_avec_message_dans_le_chiffre = insertion_chiffre(image_encryptee_avec_message_dans_le_clair, message_bits2, public_key)\n",
        "print(\"Insertion effectuée\\n\")\n",
        "\n",
        "# Extraction du message\n",
        "b_extracted = extraction_chiffre(image_encryptee_avec_message_dans_le_chiffre)\n",
        "\n",
        "# Reconstruction du message textuel (grâce aux fonction de la partie \"VI. Transformation : message en texte / message en bits\")\n",
        "bits_list = [int(x) for x in b_extracted]# Conversion de la liste de \"mpz\" en liste de int\n",
        "print(\"Message (bits) detecté tronqué:\", bits_list[:min(10, len(bits_list))])\n",
        "message_extrait = bits_to_string(bits_list).rstrip('\\x00') # Suppression les caractères nuls qui sont dus au fait que le message est trop court par rapport à l'image\n",
        "print(\"\\nMessage extrait dans le domaine chiffré de l'image :\", message_extrait)\n"
      ]
    },
    {
      "cell_type": "markdown",
      "metadata": {
        "id": "ucK42o-j_q62"
      },
      "source": [
        "#IX. Exctraction du message en clair, après avoir ajouté le tatouage dans le domaine chiffré"
      ]
    },
    {
      "cell_type": "markdown",
      "metadata": {
        "id": "Yvu22E59_zf0"
      },
      "source": [
        "On extrait le message tatoué dans le domaine clair (après avoir tatoué le message du domaine chiffré)"
      ]
    },
    {
      "cell_type": "code",
      "execution_count": 102,
      "metadata": {
        "colab": {
          "base_uri": "https://localhost:8080/"
        },
        "id": "y-x9PN27_ffg",
        "outputId": "c49d9eb7-08e3-44e2-e119-52c57e310e48"
      },
      "outputs": [
        {
          "name": "stdout",
          "output_type": "stream",
          "text": [
            "Message (bits) detecté tronqué: [0, 1, 0, 0, 1, 0, 1, 0, 0, 1]\n",
            "\n",
            "Message détecté dans le domaine clair de l'image : James Bond est un agent secret\u0000\u0000\n"
          ]
        }
      ],
      "source": [
        "# Extraction du message\n",
        "message_clair_detected_v2 = detect_clair_message(image_encryptee_avec_message_dans_le_chiffre, pre_mark)\n",
        "print(\"Message (bits) detecté tronqué:\", message_clair_detected_v2[:min(10, len(message_clair_detected_v2))])\n",
        "\n",
        "# Reconstruction du message textuel (grâce aux fonction de la partie \"VI. Transformation : message en texte / message en bits\")\n",
        "message_clair_detected_v2 = message_clair_detected_v2[:256] # On ne prend que le premier bloc (puisqu'on a tatoué le même message dans chaque bloc)\n",
        "reconstructed_message_clair_v2 = bits_to_string(message_clair_detected_v2)\n",
        "print(\"\\nMessage détecté dans le domaine clair de l'image :\", reconstructed_message_clair_v2)"
      ]
    },
    {
      "cell_type": "markdown",
      "metadata": {
        "id": "8goHgdPO19q6"
      },
      "source": [
        "#X. Bonus : Reconstruction de l'image, à partir du vecteur tatoué"
      ]
    },
    {
      "cell_type": "markdown",
      "metadata": {
        "id": "wxCAI6lYiF4B"
      },
      "source": [
        "Visualisation de l'image tatouée à partir du vecteur, dans lequel ont été insérée les tatouages dans le domaine clair et le domaine chiffré"
      ]
    },
    {
      "cell_type": "code",
      "execution_count": 103,
      "metadata": {
        "colab": {
          "base_uri": "https://localhost:8080/",
          "height": 407
        },
        "id": "u4lHk0PyiFm5",
        "outputId": "87293b5e-4e62-40a0-d6a5-f2da2f86469f"
      },
      "outputs": [
        {
          "name": "stdout",
          "output_type": "stream",
          "text": [
            "L'image qui contient les tatouages dans le domaine clair et le domaine chiffré :\n"
          ]
        },
        {
          "data": {
            "image/png": "[encoded data removed]",
            "text/plain": [
              "<Figure size 640x480 with 1 Axes>"
            ]
          },
          "metadata": {},
          "output_type": "display_data"
        }
      ],
      "source": [
        "# Déchiffrer (Partie \"V. Chiffrement de l'image\") l'image dans laquelle les messages ont été ajoutés dans le domaine clair puis dans le domaine chiffré\n",
        "image_decryptee_avec_message_dans_le_chiffre = decrypt_vector(image_encryptee_avec_message_dans_le_chiffre, public_key, private_key)\n",
        "\n",
        "# Reconstruction de l'image (mpz en int PUIS vecteur 1D en list 2D PUIS list 2D -> image)\n",
        "image_decryptee_avec_message_dans_le_chiffre = np.array([int(x) for x in image_decryptee_avec_message_dans_le_chiffre])\n",
        "watemarked_image = image_reconstruction(image_decryptee_avec_message_dans_le_chiffre, shape)\n",
        "\n",
        "# Afficher l'image avec Matplotlib\n",
        "print(\"L'image qui contient les tatouages dans le domaine clair et le domaine chiffré :\")\n",
        "plt.imshow(watemarked_image, cmap=\"gray\")\n",
        "plt.axis(\"off\")  # Supprime les axes\n",
        "plt.show()\n"
      ]
    }
  ],
  "metadata": {
    "colab": {
      "provenance": []
    },
    "kernelspec": {
      "display_name": "Python 3",
      "name": "python3"
    },
    "language_info": {
      "name": "python"
    }
  },
  "nbformat": 4,
  "nbformat_minor": 0
}
